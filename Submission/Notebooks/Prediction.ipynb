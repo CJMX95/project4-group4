{
 "cells": [
  {
   "cell_type": "code",
   "execution_count": 17,
   "id": "b8846459-0c2a-4873-a315-6c0f76d4b395",
   "metadata": {},
   "outputs": [],
   "source": [
    "import pandas as pd\n",
    "import pickle\n",
    "import numpy as np"
   ]
  },
  {
   "cell_type": "code",
   "execution_count": 19,
   "id": "01b3f40d-c5b8-4c91-aa0f-132b1e6e9c9e",
   "metadata": {},
   "outputs": [],
   "source": [
    "model = pickle.load(open(\"model_pipeline.pkl\", 'rb'))"
   ]
  },
  {
   "cell_type": "code",
   "execution_count": 21,
   "id": "70328496-07b5-40f4-875a-2e8a0d926f1f",
   "metadata": {},
   "outputs": [],
   "source": [
    "# Define the values\n",
    "brand = 'Ford'\n",
    "model_year = 2013\n",
    "mileage = 51000.0\n",
    "fuel_type = 'E85 Flex Fuel'\n",
    "accident = 'Yes'\n",
    "clean_title = 'Yes'\n",
    "price = 10300.0\n",
    "transmission = 'Automatic'\n",
    "exterior_color = 'Black'\n",
    "car_age = 12"
   ]
  },
  {
   "cell_type": "code",
   "execution_count": 23,
   "id": "e8748cbb-5957-4e58-930d-5f69261046e3",
   "metadata": {},
   "outputs": [],
   "source": [
    "class ModelHelper:\n",
    "    def __init__(self, model):\n",
    "        self.model = model\n",
    "\n",
    "    def predict_price(self, **kwargs):\n",
    "        # List of all expected features\n",
    "        expected_columns = [\n",
    "            'model_year', 'mileage', 'car_age', 'clean_title', \n",
    "            'brand_Acura', 'brand_Audi', 'brand_BMW', 'brand_Cadillac', 'brand_Chevrolet', 'brand_Dodge',\n",
    "            'brand_Ford', 'brand_GMC', 'brand_Honda', 'brand_Hyundai', 'brand_INFINITI', 'brand_Jeep', \n",
    "            'brand_Kia', 'brand_Land', 'brand_Lexus', 'brand_Lincoln', 'brand_Mazda', 'brand_Mercedes-Benz', \n",
    "            'brand_Nissan', 'brand_Other', 'brand_Porsche', 'brand_RAM', 'brand_Subaru', 'brand_Tesla', \n",
    "            'brand_Toyota', 'brand_Volkswagen', 'fuel_type_Diesel', 'fuel_type_E85 Flex Fuel', 'fuel_type_Electric', \n",
    "            'fuel_type_Gasoline', 'fuel_type_Hybrid', 'fuel_type_Plug-In Hybrid', 'fuel_type_Unknown', \n",
    "            'transmission_category_Automatic', 'transmission_category_Dual-Shift', 'transmission_category_Manual', \n",
    "            'transmission_category_Other', 'exterior_color_category_Black', 'exterior_color_category_Blue', \n",
    "            'exterior_color_category_Gray', 'exterior_color_category_Green', 'exterior_color_category_Other', \n",
    "            'exterior_color_category_Red', 'exterior_color_category_Silver', 'exterior_color_category_White', \n",
    "            'accident_No', 'accident_Unknown', 'accident_Yes'\n",
    "        ]\n",
    "\n",
    "        # Initialize feature_dict with the passed kwargs\n",
    "        feature_dict = kwargs\n",
    "        \n",
    "        # Add missing columns with a default value of 0\n",
    "        for col in expected_columns:\n",
    "            if col not in feature_dict:\n",
    "                feature_dict[col] = 0\n",
    "\n",
    "        # Create DataFrame from feature_dict\n",
    "        df = pd.DataFrame([feature_dict])\n",
    "\n",
    "        # Make sure to align the DataFrame columns with the model's expected order of features\n",
    "        df = df[self.model.get_booster().feature_names]  # Assuming you are using XGBoost or similar model\n",
    "\n",
    "        # Predict log of the price\n",
    "        predicted_price_log = self.model.predict(df)\n",
    "\n",
    "        # Convert from log price to actual price\n",
    "        predicted_price = np.exp(predicted_price_log[0])\n",
    "\n",
    "        return predicted_price\n"
   ]
  },
  {
   "cell_type": "code",
   "execution_count": 25,
   "id": "7c3542de-9035-4118-8cce-993b7c672228",
   "metadata": {},
   "outputs": [
    {
     "name": "stdout",
     "output_type": "stream",
     "text": [
      "Estimated car price: $29,598.47\n"
     ]
    }
   ],
   "source": [
    "# Create ModelHelper instance with your trained model\n",
    "model_helper = ModelHelper(model=model)\n",
    "\n",
    "# Make a prediction for the car price\n",
    "estimated_price = model_helper.predict_price(\n",
    "    model_year=2013,\n",
    "    mileage=51000,\n",
    "    car_age=12,\n",
    "    clean_title=1,\n",
    "    brand_Ford=1,  # Set the appropriate brand to 1\n",
    "    fuel_type_E85_Flex_Fuel=1,  # Set the fuel type to 1\n",
    "    transmission_category_Automatic=1,\n",
    "    exterior_color_category_Black=1,\n",
    "    accident_Yes=1\n",
    ")\n",
    "\n",
    "# Print the estimated price\n",
    "print(f\"Estimated car price: ${estimated_price:,.2f}\")\n"
   ]
  },
  {
   "cell_type": "code",
   "execution_count": null,
   "id": "e83ab927-1c6a-463b-8725-709fcaebe940",
   "metadata": {},
   "outputs": [],
   "source": []
  }
 ],
 "metadata": {
  "kernelspec": {
   "display_name": "Python 3 (ipykernel)",
   "language": "python",
   "name": "python3"
  },
  "language_info": {
   "codemirror_mode": {
    "name": "ipython",
    "version": 3
   },
   "file_extension": ".py",
   "mimetype": "text/x-python",
   "name": "python",
   "nbconvert_exporter": "python",
   "pygments_lexer": "ipython3",
   "version": "3.12.4"
  }
 },
 "nbformat": 4,
 "nbformat_minor": 5
}
