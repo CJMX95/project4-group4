import pandas as pd
import pickle
import numpy as np


model = pickle.load(open("model_pipeline.pkl", 'rb'))


# Define the values
brand = 'Ford'
model_year = 2013
mileage = 51000.0
fuel_type = 'E85 Flex Fuel'
accident = 'Yes'
clean_title = 'Yes'
price = 10300.0
transmission = 'Automatic'
exterior_color = 'Black'
car_age = 12


class ModelHelper:
    def __init__(self, model):
        self.model = model

    def predict_price(self, **kwargs):
        # List of all expected features
        expected_columns = [
            'model_year', 'mileage', 'car_age', 'clean_title', 
            'brand_Acura', 'brand_Audi', 'brand_BMW', 'brand_Cadillac', 'brand_Chevrolet', 'brand_Dodge',
            'brand_Ford', 'brand_GMC', 'brand_Honda', 'brand_Hyundai', 'brand_INFINITI', 'brand_Jeep', 
            'brand_Kia', 'brand_Land', 'brand_Lexus', 'brand_Lincoln', 'brand_Mazda', 'brand_Mercedes-Benz', 
            'brand_Nissan', 'brand_Other', 'brand_Porsche', 'brand_RAM', 'brand_Subaru', 'brand_Tesla', 
            'brand_Toyota', 'brand_Volkswagen', 'fuel_type_Diesel', 'fuel_type_E85 Flex Fuel', 'fuel_type_Electric', 
            'fuel_type_Gasoline', 'fuel_type_Hybrid', 'fuel_type_Plug-In Hybrid', 'fuel_type_Unknown', 
            'transmission_category_Automatic', 'transmission_category_Dual-Shift', 'transmission_category_Manual', 
            'transmission_category_Other', 'exterior_color_category_Black', 'exterior_color_category_Blue', 
            'exterior_color_category_Gray', 'exterior_color_category_Green', 'exterior_color_category_Other', 
            'exterior_color_category_Red', 'exterior_color_category_Silver', 'exterior_color_category_White', 
            'accident_No', 'accident_Unknown', 'accident_Yes'
        ]

        # Initialize feature_dict with the passed kwargs
        feature_dict = kwargs
        
        # Add missing columns with a default value of 0
        for col in expected_columns:
            if col not in feature_dict:
                feature_dict[col] = 0

        # Create DataFrame from feature_dict
        df = pd.DataFrame([feature_dict])

        # Make sure to align the DataFrame columns with the model's expected order of features
        df = df[self.model.get_booster().feature_names]  # Assuming you are using XGBoost or similar model

        # Predict log of the price
        predicted_price_log = self.model.predict(df)

        # Convert from log price to actual price
        predicted_price = np.exp(predicted_price_log[0])

        return predicted_price



# Create ModelHelper instance with your trained model
model_helper = ModelHelper(model=model)

# Make a prediction for the car price
estimated_price = model_helper.predict_price(
    model_year=2013,
    mileage=51000,
    car_age=12,
    clean_title=1,
    brand_Ford=1,  # Set the appropriate brand to 1
    fuel_type_E85_Flex_Fuel=1,  # Set the fuel type to 1
    transmission_category_Automatic=1,
    exterior_color_category_Black=1,
    accident_Yes=1
)

# Print the estimated price
print(f"Estimated car price: ${estimated_price:,.2f}")




