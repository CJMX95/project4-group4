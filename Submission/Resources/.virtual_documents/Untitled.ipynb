# Import the required modules
import pandas as pd
pd.set_option('display.max_columns', None)
import numpy as np
import time

# visualization
import matplotlib.pyplot as plt
import seaborn as sns
import hvplot.pandas

# Machine Learning
from sklearn.model_selection import train_test_split, cross_val_score, StratifiedKFold, GridSearchCV

# Metrics
from sklearn.metrics import confusion_matrix, classification_report, roc_auc_score, roc_curve, RocCurveDisplay

# Pre-Processing
from sklearn.preprocessing import StandardScaler, OneHotEncoder, OrdinalEncoder, MinMaxScaler, LabelEncoder
from sklearn.pipeline import Pipeline
from sklearn.compose import ColumnTransformer
from sklearn.impute import SimpleImputer

# Models
from sklearn.linear_model import LogisticRegression
from sklearn.tree import DecisionTreeClassifier
from sklearn.ensemble import RandomForestClassifier, AdaBoostClassifier, ExtraTreesClassifier, GradientBoostingClassifier
from sklearn.svm import SVC
from sklearn.neighbors import KNeighborsClassifier
#from xgboost import XGBClassifier
#from lightgbm import LGBMClassifier

# Save off the model/scaler
import pickle

# suppress warnings
import warnings
warnings.filterwarnings('ignore')


df = pd.read_csv("../Resources/used_cars.csv")
print(df.shape)
df.head(20)


df.info()


# Check whether there are duplicates rows in the dataset
duplicates = df.duplicated()
duplicate_count = df.duplicated().sum()
print(f"Number of duplicate rows: {duplicate_count}")


# Get unique values in the 'engine' column where the engine contains the string "Electric Motor Electric Fuel System"
electric_motor_values = df[df['engine'].str.contains("Electric Motor Electric Fuel System", case=False, na=False)]['engine'].unique()

# Print the unique values
print(electric_motor_values)




# Filter rows where 'engine' contains 'Electric Motor Electric Fuel System'
condition_engine = df['engine'].str.contains("Electric Motor Electric Fuel System", case=False, na=False)

# Check for missing or blank 'fuel_type'
condition_fuel_type = df['fuel_type'].isnull()

# Apply the conditions to replace missing 'fuel_type' with 'Electric'
df.loc[condition_engine & condition_fuel_type, 'fuel_type'] = 'Electric'



# Display rows where 'engine' contains 'Electric Motor Electric Fuel System' 
# and the 'fuel_type' is now 'Electric'
updated_rows = df[df['engine'].str.contains("Electric Motor Electric Fuel System", case=False, na=False)]

# Show  the updated rows
updated_rows[['engine', 'fuel_type']]




